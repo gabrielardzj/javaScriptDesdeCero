{
  "nbformat": 4,
  "nbformat_minor": 0,
  "metadata": {
    "colab": {
      "provenance": [],
      "authorship_tag": "ABX9TyPFW1F06oHmJpBa5/UaDPl0",
      "include_colab_link": true
    },
    "kernelspec": {
      "name": "python3",
      "display_name": "Python 3"
    },
    "language_info": {
      "name": "python"
    }
  },
  "cells": [
    {
      "cell_type": "markdown",
      "metadata": {
        "id": "view-in-github",
        "colab_type": "text"
      },
      "source": [
        "<a href=\"https://colab.research.google.com/github/gabrielardzj/javaScriptDesdeCero/blob/main/javaScriptDesdeCero.ipynb\" target=\"_parent\"><img src=\"https://colab.research.google.com/assets/colab-badge.svg\" alt=\"Open In Colab\"/></a>"
      ]
    },
    {
      "cell_type": "markdown",
      "source": [
        "# **Javascript Desde Cero**"
      ],
      "metadata": {
        "id": "J91eKUUEBtOv"
      }
    },
    {
      "cell_type": "markdown",
      "source": [
        "## **Formas de ejecutar Javascript**\n",
        "\n",
        "---\n",
        "\n"
      ],
      "metadata": {
        "id": "MUNzGy4pDKed"
      }
    },
    {
      "cell_type": "markdown",
      "source": [
        "### 1. Incrustado en HTML:\n",
        "Puedes colocar directamente tu código JavaScript entre las etiquetas <script> en el cuerpo del HTML."
      ],
      "metadata": {
        "id": "AgbU4gDBDb3H"
      }
    },
    {
      "cell_type": "code",
      "execution_count": 4,
      "metadata": {
        "colab": {
          "base_uri": "https://localhost:8080/",
          "height": 17
        },
        "id": "SibaBeytBXv_",
        "outputId": "eb5dbbe8-363f-43ec-eb15-7afd93c4327d"
      },
      "outputs": [
        {
          "output_type": "display_data",
          "data": {
            "text/plain": [
              "<IPython.core.display.Javascript object>"
            ],
            "application/javascript": [
              "<!DOCTYPE html>\n",
              "<html>\n",
              "<head>\n",
              "    <title>Mi Pagina Web</title>\n",
              "</head>\n",
              "<body>\n",
              "    <script>\n",
              "        // Código JavaScript incrustado\n",
              "        alert(\"¡Hola, mundo!\");\n",
              "    </script>\n",
              "</body>\n",
              "</html>\n"
            ]
          },
          "metadata": {}
        }
      ],
      "source": [
        "%%js\n",
        "<!DOCTYPE html>\n",
        "<html>\n",
        "<head>\n",
        "    <title>Mi Pagina Web</title>\n",
        "</head>\n",
        "<body>\n",
        "    <script>\n",
        "        // Código JavaScript incrustado\n",
        "        alert(\"¡Hola, mundo!\");\n",
        "    </script>\n",
        "</body>\n",
        "</html>"
      ]
    },
    {
      "cell_type": "markdown",
      "source": [
        "### 2. Archivo Externo:\n",
        "Puedes colocar tu código JavaScript en un archivo separado (por ejemplo, miarchivo.js) y luego incluirlo en tu HTML con la etiqueta <script>."
      ],
      "metadata": {
        "id": "xABNZqn6EGsG"
      }
    },
    {
      "cell_type": "code",
      "source": [
        "%%js\n",
        "<!DOCTYPE html>\n",
        "<html>\n",
        "<head>\n",
        "    <title>Mi Pagina Web</title>\n",
        "    <script src=\"miarchivo.js\"></script>\n",
        "</head>\n",
        "<body>\n",
        "    <!-- Contenido de la pagina -->\n",
        "</body>\n",
        "</html>"
      ],
      "metadata": {
        "colab": {
          "base_uri": "https://localhost:8080/",
          "height": 17
        },
        "id": "0uPRVp89EWBW",
        "outputId": "c466a5da-2274-44a9-a091-0c6b2ba4e2f5"
      },
      "execution_count": 5,
      "outputs": [
        {
          "output_type": "display_data",
          "data": {
            "text/plain": [
              "<IPython.core.display.Javascript object>"
            ],
            "application/javascript": [
              "<!DOCTYPE html>\n",
              "<html>\n",
              "<head>\n",
              "    <title>Mi Pagina Web</title>\n",
              "    <script src=\"miarchivo.js\"></script>\n",
              "</head>\n",
              "<body>\n",
              "    <!-- Contenido de la pagina -->\n",
              "</body>\n",
              "</html>\n"
            ]
          },
          "metadata": {}
        }
      ]
    },
    {
      "cell_type": "markdown",
      "source": [
        "### 3. Eventos del Usuario:\n",
        "Puedes ejecutar JavaScript en respuesta a eventos del usuario, como clics, cambios en formularios, etc.\n"
      ],
      "metadata": {
        "id": "UNZFXEmlExmb"
      }
    },
    {
      "cell_type": "code",
      "source": [
        "%%js\n",
        "<!DOCTYPE html>\n",
        "<html>\n",
        "<head>\n",
        "    <title>Mi Pagina Web</title>\n",
        "</head>\n",
        "<body>\n",
        "    <button onclick=\"miFuncion()\">Haz clic</button>\n",
        "    <script>\n",
        "        function miFuncion() {\n",
        "            alert(\"¡Botón clickeado!\");\n",
        "        }\n",
        "    </script>\n",
        "</body>\n",
        "</html>"
      ],
      "metadata": {
        "colab": {
          "base_uri": "https://localhost:8080/",
          "height": 17
        },
        "id": "D1j3fPhzE4ll",
        "outputId": "610cebd5-6e04-4b57-d8f2-c53891e01fd5"
      },
      "execution_count": 6,
      "outputs": [
        {
          "output_type": "display_data",
          "data": {
            "text/plain": [
              "<IPython.core.display.Javascript object>"
            ],
            "application/javascript": [
              "<!DOCTYPE html>\n",
              "<html>\n",
              "<head>\n",
              "    <title>Mi Pagina Web</title>\n",
              "</head>\n",
              "<body>\n",
              "    <button onclick=\"miFuncion()\">Haz clic</button>\n",
              "    <script>\n",
              "        function miFuncion() {\n",
              "            alert(\"¡Botón clickeado!\");\n",
              "        }\n",
              "    </script>\n",
              "</body>\n",
              "</html>\n"
            ]
          },
          "metadata": {}
        }
      ]
    },
    {
      "cell_type": "markdown",
      "source": [
        "### 4. Node.js en el Servidor:\n",
        "JavaScript también se puede ejecutar en el servidor utilizando Node.js. Puedes escribir scripts de servidor y ejecutarlos con Node.js para realizar tareas del lado del servidor."
      ],
      "metadata": {
        "id": "_aKvqnk3F70t"
      }
    },
    {
      "cell_type": "code",
      "source": [
        "%%js\n",
        "// Ejemplo de script Node.js\n",
        "console.log(\"¡Hola, mundo desde Node.js!\");"
      ],
      "metadata": {
        "colab": {
          "base_uri": "https://localhost:8080/",
          "height": 17
        },
        "id": "365j6ImsF7Xj",
        "outputId": "4db4f492-862f-43ce-f382-cb7601d4ed41"
      },
      "execution_count": 7,
      "outputs": [
        {
          "output_type": "display_data",
          "data": {
            "text/plain": [
              "<IPython.core.display.Javascript object>"
            ],
            "application/javascript": [
              "// Ejemplo de script Node.js\n",
              "console.log(\"¡Hola, mundo desde Node.js!\");\n"
            ]
          },
          "metadata": {}
        }
      ]
    },
    {
      "cell_type": "markdown",
      "source": [
        "### Consola del Navegador:\n",
        "Puedes ejecutar JavaScript directamente desde la consola del desarrollador en el navegador. Presiona F12 o haz clic derecho en la página y selecciona \"Inspeccionar\" para abrir las herramientas de desarrollo. Luego, ve a la pestaña \"Consola\" y escribe tu código."
      ],
      "metadata": {
        "id": "6tDOOUTTHUQs"
      }
    },
    {
      "cell_type": "markdown",
      "source": [
        "## **Anatomía de una Variable**\n",
        "---\n",
        "La anatomía de una variable en programación se refiere a los elementos que componen una variable. En JavaScript, una variable se utiliza para almacenar y referenciar datos. Aquí están los componentes principales de la anatomía de una variable:\n",
        "\n",
        "\n",
        "\n"
      ],
      "metadata": {
        "id": "hj_31ylQHdlP"
      }
    },
    {
      "cell_type": "markdown",
      "source": [
        "### **Declaración**\n",
        "**Palabras clave (var, let, const)**: En JavaScript, las variables se declaran utilizando palabras clave como var, let, o const. Estas palabras clave determinan el alcance y el comportamiento de la variable.\n",
        "\n",
        "**Nombre de la Variable**: Después de la palabra clave, se especifica el nombre de la variable. Este nombre es cómo te referirás a la variable más adelante en tu código."
      ],
      "metadata": {
        "id": "i6CFC96ZH7gl"
      }
    },
    {
      "cell_type": "code",
      "source": [
        "%%js\n",
        "let miVariable;"
      ],
      "metadata": {
        "id": "TPcZPh7pIkkJ"
      },
      "execution_count": null,
      "outputs": []
    },
    {
      "cell_type": "markdown",
      "source": [
        "### **Asignación de Valor:**\n",
        "**Operador de Asignación** (=): Después de declarar una variable, puedes asignarle un valor utilizando el operador de asignación (=)."
      ],
      "metadata": {
        "id": "ilzx5-ALI0T_"
      }
    },
    {
      "cell_type": "code",
      "source": [
        "%%js\n",
        "et miVariable = 10;"
      ],
      "metadata": {
        "id": "lTv2rHhVJEgK"
      },
      "execution_count": null,
      "outputs": []
    },
    {
      "cell_type": "markdown",
      "source": [
        "### **Tipo de Datos:**\n",
        "**Tipos de Datos:** En JavaScript, las variables pueden contener diferentes tipos de datos, como números, cadenas de texto, booleanos, objetos, funciones, entre otros."
      ],
      "metadata": {
        "id": "phe_DT8TJTbl"
      }
    },
    {
      "cell_type": "code",
      "source": [
        "%%js\n",
        "let numero = 42;          // Número\n",
        "let texto = \"Hola\";      // Cadena de texto\n",
        "let esVerdadero = true;   // Booleano"
      ],
      "metadata": {
        "id": "1s0JjBrtJegu"
      },
      "execution_count": null,
      "outputs": []
    },
    {
      "cell_type": "markdown",
      "source": [
        "### **Alcance:**\n",
        "**Global o Local**: El alcance de una variable se refiere a la parte del código donde puede ser utilizada. Una variable puede ser global (accesible en todo el programa) o local (accesible solo dentro de una función o bloque de código específico)."
      ],
      "metadata": {
        "id": "-xJYpZLhJj-r"
      }
    },
    {
      "cell_type": "code",
      "source": [
        "%%js\n",
        "let variableGlobal = 5;   // Variable global\n",
        "\n",
        "function miFuncion() {\n",
        "    let variableLocal = 10;  // Variable local\n",
        "}"
      ],
      "metadata": {
        "id": "ZkTZ-o3QJxCF"
      },
      "execution_count": null,
      "outputs": []
    },
    {
      "cell_type": "markdown",
      "source": [
        "### **Mutabilidad e Inmutabilidad (para let y const):**\n",
        "**Mutabilidad (let)**: Las variables declaradas con let pueden cambiar de valor.\n",
        "\n",
        "**Inmutabilidad (const)**: Las variables declaradas con const no pueden ser reasignadas."
      ],
      "metadata": {
        "id": "6rP4NXZzJ9BB"
      }
    },
    {
      "cell_type": "code",
      "source": [
        "%%js\n",
        "//Mutabilidad (let)\n",
        "let mutableVariable = 5;\n",
        "mutableVariable = 10;  // Cambiando el valor"
      ],
      "metadata": {
        "id": "s-X4DSSdKDB6"
      },
      "execution_count": null,
      "outputs": []
    },
    {
      "cell_type": "code",
      "source": [
        "%%js\n",
        "//Inmutabilidad (const)\n",
        "const inmutableVariable = 5;\n",
        "// inmutableVariable = 10;  // Esto generaría un error"
      ],
      "metadata": {
        "id": "nh9_JykeKLXe"
      },
      "execution_count": null,
      "outputs": []
    }
  ]
}